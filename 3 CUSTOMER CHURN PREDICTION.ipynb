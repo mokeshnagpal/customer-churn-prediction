{
 "cells": [
  {
   "cell_type": "code",
   "execution_count": 1,
   "id": "676cb4d2-daf2-4f59-9eae-9735e814f1ff",
   "metadata": {},
   "outputs": [
    {
     "name": "stdout",
     "output_type": "stream",
     "text": [
      "Dataset URL: https://www.kaggle.com/datasets/blastchar/telco-customer-churn\n",
      "Downloading telco-customer-churn.zip to DATASETS\n"
     ]
    },
    {
     "name": "stderr",
     "output_type": "stream",
     "text": [
      "100%|████████████████████████████████████████████████████████████████████████████████| 172k/172k [00:00<00:00, 201kB/s]"
     ]
    },
    {
     "name": "stdout",
     "output_type": "stream",
     "text": [
      "\n"
     ]
    },
    {
     "name": "stderr",
     "output_type": "stream",
     "text": [
      "\n"
     ]
    }
   ],
   "source": [
    "import kaggle\n",
    "import pandas as pd\n",
    "import tensorflow as tf\n",
    "\n",
    "# Specify the dataset path on Kaggle (you can find it on the Kaggle dataset page)\n",
    "dataset_path = 'blastchar/telco-customer-churn'\n",
    "\n",
    "# Download the dataset\n",
    "kaggle.api.dataset_download_files(dataset_path,path=\"DATASETS/\", unzip=True,quiet=False)"
   ]
  },
  {
   "cell_type": "code",
   "execution_count": 2,
   "id": "93c27a7c-4b54-4940-9281-72ba253e2f76",
   "metadata": {
    "scrolled": true
   },
   "outputs": [
    {
     "name": "stdout",
     "output_type": "stream",
     "text": [
      "   customerID  gender  SeniorCitizen Partner Dependents  tenure PhoneService  \\\n",
      "0  7590-VHVEG  Female              0     Yes         No       1           No   \n",
      "1  5575-GNVDE    Male              0      No         No      34          Yes   \n",
      "2  3668-QPYBK    Male              0      No         No       2          Yes   \n",
      "3  7795-CFOCW    Male              0      No         No      45           No   \n",
      "4  9237-HQITU  Female              0      No         No       2          Yes   \n",
      "\n",
      "      MultipleLines InternetService OnlineSecurity  ... DeviceProtection  \\\n",
      "0  No phone service             DSL             No  ...               No   \n",
      "1                No             DSL            Yes  ...              Yes   \n",
      "2                No             DSL            Yes  ...               No   \n",
      "3  No phone service             DSL            Yes  ...              Yes   \n",
      "4                No     Fiber optic             No  ...               No   \n",
      "\n",
      "  TechSupport StreamingTV StreamingMovies        Contract PaperlessBilling  \\\n",
      "0          No          No              No  Month-to-month              Yes   \n",
      "1          No          No              No        One year               No   \n",
      "2          No          No              No  Month-to-month              Yes   \n",
      "3         Yes          No              No        One year               No   \n",
      "4          No          No              No  Month-to-month              Yes   \n",
      "\n",
      "               PaymentMethod MonthlyCharges  TotalCharges Churn  \n",
      "0           Electronic check          29.85         29.85    No  \n",
      "1               Mailed check          56.95        1889.5    No  \n",
      "2               Mailed check          53.85        108.15   Yes  \n",
      "3  Bank transfer (automatic)          42.30       1840.75    No  \n",
      "4           Electronic check          70.70        151.65   Yes  \n",
      "\n",
      "[5 rows x 21 columns]\n"
     ]
    }
   ],
   "source": [
    "df = pd.read_csv(\"DATASETs/WA_Fn-UseC_-Telco-Customer-Churn.csv\")\n",
    "print(df.head())"
   ]
  },
  {
   "cell_type": "code",
   "execution_count": 3,
   "id": "ac204492-e8f4-478f-9cac-1ce6d618be4c",
   "metadata": {
    "scrolled": true
   },
   "outputs": [
    {
     "data": {
      "text/plain": [
       "customerID           object\n",
       "gender               object\n",
       "SeniorCitizen         int64\n",
       "Partner              object\n",
       "Dependents           object\n",
       "tenure                int64\n",
       "PhoneService         object\n",
       "MultipleLines        object\n",
       "InternetService      object\n",
       "OnlineSecurity       object\n",
       "OnlineBackup         object\n",
       "DeviceProtection     object\n",
       "TechSupport          object\n",
       "StreamingTV          object\n",
       "StreamingMovies      object\n",
       "Contract             object\n",
       "PaperlessBilling     object\n",
       "PaymentMethod        object\n",
       "MonthlyCharges      float64\n",
       "TotalCharges         object\n",
       "Churn                object\n",
       "dtype: object"
      ]
     },
     "execution_count": 3,
     "metadata": {},
     "output_type": "execute_result"
    }
   ],
   "source": [
    "df.dtypes"
   ]
  },
  {
   "cell_type": "code",
   "execution_count": 4,
   "id": "faf3aae5-6ec4-4f10-ac41-d5bdec712fd7",
   "metadata": {},
   "outputs": [],
   "source": [
    "df_copy = df.copy()"
   ]
  },
  {
   "cell_type": "code",
   "execution_count": 5,
   "id": "26125889-35a0-482a-a3a9-f8dd41d00975",
   "metadata": {},
   "outputs": [],
   "source": [
    "df.drop('customerID', inplace = True, axis = \"columns\")"
   ]
  },
  {
   "cell_type": "code",
   "execution_count": 6,
   "id": "3f2a4e7d-4055-4a57-be49-81d1a912ce0b",
   "metadata": {},
   "outputs": [
    {
     "name": "stdout",
     "output_type": "stream",
     "text": [
      "gender: ['Female' 'Male']\n",
      "SeniorCitizen: [0 1]\n",
      "Partner: ['Yes' 'No']\n",
      "Dependents: ['No' 'Yes']\n",
      "tenure: [ 1 34  2 45  8 22 10 28 62 13 16 58 49 25 69 52 71 21 12 30 47 72 17 27\n",
      "  5 46 11 70 63 43 15 60 18 66  9  3 31 50 64 56  7 42 35 48 29 65 38 68\n",
      " 32 55 37 36 41  6  4 33 67 23 57 61 14 20 53 40 59 24 44 19 54 51 26  0\n",
      " 39]\n",
      "PhoneService: ['No' 'Yes']\n",
      "MultipleLines: ['No phone service' 'No' 'Yes']\n",
      "InternetService: ['DSL' 'Fiber optic' 'No']\n",
      "OnlineSecurity: ['No' 'Yes' 'No internet service']\n",
      "OnlineBackup: ['Yes' 'No' 'No internet service']\n",
      "DeviceProtection: ['No' 'Yes' 'No internet service']\n",
      "TechSupport: ['No' 'Yes' 'No internet service']\n",
      "StreamingTV: ['No' 'Yes' 'No internet service']\n",
      "StreamingMovies: ['No' 'Yes' 'No internet service']\n",
      "Contract: ['Month-to-month' 'One year' 'Two year']\n",
      "PaperlessBilling: ['Yes' 'No']\n",
      "PaymentMethod: ['Electronic check' 'Mailed check' 'Bank transfer (automatic)'\n",
      " 'Credit card (automatic)']\n",
      "MonthlyCharges: [29.85 56.95 53.85 ... 63.1  44.2  78.7 ]\n",
      "TotalCharges: ['29.85' '1889.5' '108.15' ... '346.45' '306.6' '6844.5']\n",
      "Churn: ['No' 'Yes']\n"
     ]
    }
   ],
   "source": [
    "def uni_val(df):\n",
    "    for column in df:\n",
    "        print(f'{column}: {df[column].unique()}')\n",
    "uni_val(df)"
   ]
  },
  {
   "cell_type": "code",
   "execution_count": 7,
   "id": "8291d7e7-a726-439b-ba25-05635e320b7b",
   "metadata": {},
   "outputs": [],
   "source": [
    "df.replace('No internet service','No', inplace  =True)\n",
    "df['Contract'].replace('Month-to-month',1,inplace=True)\n",
    "df['Contract'].replace('One year',12,inplace=True)\n",
    "df['Contract'].replace('Two year',24,inplace=True)\n",
    "df['MultipleLines'].replace('No phone service','No',inplace=True)"
   ]
  },
  {
   "cell_type": "code",
   "execution_count": 8,
   "id": "b6d39cf7-e7a6-4350-9679-4cb7485c32cb",
   "metadata": {},
   "outputs": [],
   "source": [
    "df['gender'] = df['gender'].map({'Female' : 0,'Male' : 1})\n",
    "df['Partner'] =  df['Partner'].map({'No' : 0,'Yes' : 1})\n",
    "df['PhoneService'] =  df['PhoneService'].map({'No' : 0,'Yes' : 1})\n",
    "df['PaperlessBilling'] =  df['PaperlessBilling'].map({'No' : 0,'Yes' : 1})\n",
    "df['Dependents'] =  df['Dependents'].map({'No' : 0,'Yes' : 1})\n",
    "df['MultipleLines'] =  df['MultipleLines'].map({'No' : 0,'Yes' : 1})\n",
    "df['OnlineSecurity'] =  df['OnlineSecurity'].map({'No' : 0,'Yes' : 1})\n",
    "df['Churn'] =  df['Churn'].map({'No' : 0,'Yes' : 1})\n",
    "df['OnlineBackup'] =  df['OnlineBackup'].map({'No' : 0,'Yes' : 1})\n",
    "df['DeviceProtection'] =  df['DeviceProtection'].map({'No' : 0,'Yes' : 1})\n",
    "df['TechSupport'] =  df['TechSupport'].map({'No' : 0,'Yes' : 1})\n",
    "df['StreamingTV'] =  df['StreamingTV'].map({'No' : 0,'Yes' : 1})\n",
    "df['StreamingMovies'] =  df['StreamingMovies'].map({'No' : 0,'Yes' : 1})\n"
   ]
  },
  {
   "cell_type": "markdown",
   "id": "7c1b2470-ce01-4a39-8990-10a2edea5835",
   "metadata": {
    "scrolled": true
   },
   "source": [
    "from sklearn.preprocessing import LabelEncoder\n",
    "label_encoder = LabelEncoder()\n",
    "df['gender'] = label_encoder.fit_transform(df['gender'])\n",
    "df['Partner'] = label_encoder.fit_transform(df['Partner'])\n",
    "df['tenure'] = label_encoder.fit_transform(df['tenure'])\n",
    "df['Dependents'] = label_encoder.fit_transform(df['Dependents'])\n",
    "df['PhoneService'] = label_encoder.fit_transform(df['PhoneService'])\n",
    "df['MultipleLines'] = label_encoder.fit_transform(df['MultipleLines'])\n",
    "df['InternetService'] = label_encoder.fit_transform(df['InternetService'])\n",
    "df['OnlineSecurity'] = label_encoder.fit_transform(df['OnlineSecurity'])\n",
    "df['OnlineBackup'] = label_encoder.fit_transform(df['OnlineBackup'])\n",
    "df['DeviceProtection'] = label_encoder.fit_transform(df['DeviceProtection'])\n",
    "df['TechSupport'] = label_encoder.fit_transform(df['TechSupport'])\n",
    "df['StreamingTV'] = label_encoder.fit_transform(df['StreamingTV'])\n",
    "df['StreamingMovies'] = label_encoder.fit_transform(df['StreamingMovies'])\n",
    "df['Contract'] = label_encoder.fit_transform(df['Contract'])\n",
    "df['PaperlessBilling'] = label_encoder.fit_transform(df['PaperlessBilling'])\n",
    "df['PaymentMethod'] = label_encoder.fit_transform(df['PaymentMethod'])\n",
    "df['Churn'] = label_encoder.fit_transform(df['Churn'])"
   ]
  },
  {
   "cell_type": "code",
   "execution_count": 9,
   "id": "49f4571f-7dc6-4d8f-8f5b-837cc6d939da",
   "metadata": {
    "scrolled": true
   },
   "outputs": [],
   "source": [
    "# Step 1: Create the dummy variables\n",
    "df2 = pd.get_dummies(df, columns=['PaymentMethod', 'InternetService'])\n",
    "\n",
    "# Step 2: Convert the dummy columns to integers\n",
    "dummy_columns = df2.columns[df2.columns.str.startswith(('PaymentMethod_', 'InternetService_'))]\n",
    "df2[dummy_columns] = df2[dummy_columns].astype(int)\n"
   ]
  },
  {
   "cell_type": "code",
   "execution_count": 10,
   "id": "6b115ac7-cbdf-4bec-9b96-ff1ccf6d9968",
   "metadata": {},
   "outputs": [],
   "source": [
    "df2['TotalCharges'] = pd.to_numeric(df2['TotalCharges'].str.strip())\n",
    "df2.fillna(0, inplace=True)"
   ]
  },
  {
   "cell_type": "code",
   "execution_count": 11,
   "id": "2d478eff-4f68-414c-a616-24c2542530cd",
   "metadata": {},
   "outputs": [],
   "source": [
    "from sklearn.preprocessing import MinMaxScaler\n",
    "scaler = MinMaxScaler()\n",
    "\n",
    "df2['MonthlyCharges'] = scaler.fit_transform(df2[['MonthlyCharges']])\n",
    "df2['TotalCharges'] = scaler.fit_transform(df2[['TotalCharges']])\n",
    "df2['tenure'] = scaler.fit_transform(df2[['tenure']])\n",
    "df2['Contract'] = scaler.fit_transform(df2[['Contract']])"
   ]
  },
  {
   "cell_type": "code",
   "execution_count": 12,
   "id": "1911d2f4-e5a9-4e40-bc9a-393281469f2f",
   "metadata": {},
   "outputs": [
    {
     "name": "stdout",
     "output_type": "stream",
     "text": [
      "gender: [0 1]\n",
      "SeniorCitizen: [0 1]\n",
      "Partner: [1 0]\n",
      "Dependents: [0 1]\n",
      "tenure: [0.01388889 0.47222222 0.02777778 0.625      0.11111111 0.30555556\n",
      " 0.13888889 0.38888889 0.86111111 0.18055556 0.22222222 0.80555556\n",
      " 0.68055556 0.34722222 0.95833333 0.72222222 0.98611111 0.29166667\n",
      " 0.16666667 0.41666667 0.65277778 1.         0.23611111 0.375\n",
      " 0.06944444 0.63888889 0.15277778 0.97222222 0.875      0.59722222\n",
      " 0.20833333 0.83333333 0.25       0.91666667 0.125      0.04166667\n",
      " 0.43055556 0.69444444 0.88888889 0.77777778 0.09722222 0.58333333\n",
      " 0.48611111 0.66666667 0.40277778 0.90277778 0.52777778 0.94444444\n",
      " 0.44444444 0.76388889 0.51388889 0.5        0.56944444 0.08333333\n",
      " 0.05555556 0.45833333 0.93055556 0.31944444 0.79166667 0.84722222\n",
      " 0.19444444 0.27777778 0.73611111 0.55555556 0.81944444 0.33333333\n",
      " 0.61111111 0.26388889 0.75       0.70833333 0.36111111 0.\n",
      " 0.54166667]\n",
      "PhoneService: [0 1]\n",
      "MultipleLines: [0 1]\n",
      "OnlineSecurity: [0 1]\n",
      "OnlineBackup: [1 0]\n",
      "DeviceProtection: [0 1]\n",
      "TechSupport: [0 1]\n",
      "StreamingTV: [0 1]\n",
      "StreamingMovies: [0 1]\n",
      "Contract: [0.         0.47826087 1.        ]\n",
      "PaperlessBilling: [1 0]\n",
      "MonthlyCharges: [0.11542289 0.38507463 0.35422886 ... 0.44626866 0.25820896 0.60149254]\n",
      "TotalCharges: [0.00343704 0.21756402 0.01245279 ... 0.03989153 0.03530306 0.78810105]\n",
      "Churn: [0 1]\n",
      "PaymentMethod_Bank transfer (automatic): [0 1]\n",
      "PaymentMethod_Credit card (automatic): [0 1]\n",
      "PaymentMethod_Electronic check: [1 0]\n",
      "PaymentMethod_Mailed check: [0 1]\n",
      "InternetService_DSL: [1 0]\n",
      "InternetService_Fiber optic: [0 1]\n",
      "InternetService_No: [0 1]\n"
     ]
    }
   ],
   "source": [
    "uni_val(df2)"
   ]
  },
  {
   "cell_type": "code",
   "execution_count": 13,
   "id": "8b05c48d-09ce-4665-8064-c12ab0b006fa",
   "metadata": {},
   "outputs": [
    {
     "data": {
      "text/plain": [
       "(5634, 24)"
      ]
     },
     "execution_count": 13,
     "metadata": {},
     "output_type": "execute_result"
    }
   ],
   "source": [
    "from sklearn.model_selection import train_test_split\n",
    "\n",
    "x = df2.drop('Churn', axis=1)  \n",
    "y = df2['Churn']  \n",
    "\n",
    "x_train, x_test, y_train, y_test = train_test_split(x, y, test_size=0.2)\n",
    "x_train.shape"
   ]
  },
  {
   "cell_type": "code",
   "execution_count": 14,
   "id": "301a9a1d-61ed-4b69-a131-49242c4bde07",
   "metadata": {
    "scrolled": true
   },
   "outputs": [
    {
     "data": {
      "text/plain": [
       "Churn\n",
       "0    5174\n",
       "1    1869\n",
       "Name: count, dtype: int64"
      ]
     },
     "execution_count": 14,
     "metadata": {},
     "output_type": "execute_result"
    }
   ],
   "source": [
    "y.value_counts()"
   ]
  },
  {
   "cell_type": "code",
   "execution_count": 15,
   "id": "f69fbe2d-9c93-4883-99c3-81fe8b566d73",
   "metadata": {},
   "outputs": [
    {
     "data": {
      "text/plain": [
       "Churn\n",
       "0    4117\n",
       "1    1517\n",
       "Name: count, dtype: int64"
      ]
     },
     "execution_count": 15,
     "metadata": {},
     "output_type": "execute_result"
    }
   ],
   "source": [
    "y_train.value_counts()"
   ]
  },
  {
   "cell_type": "code",
   "execution_count": 16,
   "id": "d2d701ae-a373-4511-93a4-aab9f3198fbe",
   "metadata": {
    "scrolled": true
   },
   "outputs": [
    {
     "data": {
      "text/plain": [
       "Churn\n",
       "0    1057\n",
       "1     352\n",
       "Name: count, dtype: int64"
      ]
     },
     "execution_count": 16,
     "metadata": {},
     "output_type": "execute_result"
    }
   ],
   "source": [
    "y_test.value_counts()"
   ]
  },
  {
   "cell_type": "code",
   "execution_count": 17,
   "id": "0fcbe2f1-11bd-4739-b10b-71617b0280a7",
   "metadata": {},
   "outputs": [],
   "source": [
    "def get_model():\n",
    "    model = tf.keras.Sequential([\n",
    "    tf.keras.layers.Dense(12, input_shape = (24,) , activation = \"leaky_relu\"),  #how many value at once will be supplied  (here there are 24 columns so each row has 24 values)\n",
    "    tf.keras.layers.Dense(24, activation = \"leaky_relu\"),\n",
    "    tf.keras.layers.Dense(16, activation = \"leaky_relu\"),\n",
    "    tf.keras.layers.Dense(16, activation = \"leaky_relu\"),\n",
    "    tf.keras.layers.Dense(16, activation = \"leaky_relu\"),\n",
    "    tf.keras.layers.Dense(16, activation = \"leaky_relu\"),\n",
    "    tf.keras.layers.Dense(1, activation = \"sigmoid\")\n",
    "    ])\n",
    "    model.compile(optimizer=tf.keras.optimizers.Adam(learning_rate=0.0001),\n",
    "                  loss = \"binary_crossentropy\",\n",
    "                  metrics = [\"accuracy\"])\n",
    "    return model\n"
   ]
  },
  {
   "cell_type": "code",
   "execution_count": null,
   "id": "e34d5785-aa6d-4552-b3a8-6aacab50fe6e",
   "metadata": {
    "scrolled": true
   },
   "outputs": [
    {
     "name": "stdout",
     "output_type": "stream",
     "text": [
      "Epoch 1/1000\n"
     ]
    }
   ],
   "source": [
    "with tf.device('/GPU:0'):\n",
    "    gpu_model = get_model()\n",
    "    early_stopping = tf.keras.callbacks.EarlyStopping(monitor='accuracy', patience=10, restore_best_weights=True)\n",
    "    gpu_model.fit( x_train, y_train, epochs = 1000, callbacks=[early_stopping])"
   ]
  },
  {
   "cell_type": "code",
   "execution_count": 20,
   "id": "802532c9-24ed-49b4-96f7-ea1501a91d34",
   "metadata": {},
   "outputs": [
    {
     "name": "stdout",
     "output_type": "stream",
     "text": [
      "45/45 [==============================] - 0s 3ms/step - loss: 0.5689 - accuracy: 0.7686\n"
     ]
    },
    {
     "data": {
      "text/plain": [
       "0.7364"
      ]
     },
     "execution_count": 20,
     "metadata": {},
     "output_type": "execute_result"
    }
   ],
   "source": [
    "gpu_model.evaluate(x_test, y_test)\n",
    "0.7364"
   ]
  },
  {
   "cell_type": "code",
   "execution_count": 22,
   "id": "0b0e17da-8457-4049-9f5b-10de469784bd",
   "metadata": {},
   "outputs": [
    {
     "name": "stdout",
     "output_type": "stream",
     "text": [
      "45/45 [==============================] - 0s 3ms/step\n"
     ]
    }
   ],
   "source": [
    "y_predict = gpu_model.predict(x_test)"
   ]
  },
  {
   "cell_type": "code",
   "execution_count": 26,
   "id": "32d90cfe-0743-4a43-a5c5-0b0a47367178",
   "metadata": {},
   "outputs": [
    {
     "data": {
      "text/plain": [
       "array([[0.00544946],\n",
       "       [0.8413452 ],\n",
       "       [0.06204079],\n",
       "       [0.11641217],\n",
       "       [0.0198795 ]], dtype=float32)"
      ]
     },
     "execution_count": 26,
     "metadata": {},
     "output_type": "execute_result"
    }
   ],
   "source": [
    "y_predict[:5]"
   ]
  },
  {
   "cell_type": "code",
   "execution_count": 33,
   "id": "04b3aa06-00a8-4631-8208-8346bf8a0bce",
   "metadata": {},
   "outputs": [],
   "source": [
    "import numpy as np\n",
    "y_predict = np.round(y_predict)"
   ]
  },
  {
   "cell_type": "code",
   "execution_count": 34,
   "id": "9b2f3363-1ec9-4e86-b3ea-7aa5e56e09da",
   "metadata": {},
   "outputs": [
    {
     "name": "stdout",
     "output_type": "stream",
     "text": [
      "[[912 112]\n",
      " [214 171]]\n"
     ]
    }
   ],
   "source": [
    "from sklearn.metrics import confusion_matrix\n",
    "\n",
    "\n",
    "cm = confusion_matrix(y_test, y_predict)\n",
    "print(cm)"
   ]
  },
  {
   "cell_type": "code",
   "execution_count": 45,
   "id": "2a52d29f-c29e-4bd7-a43b-fad20cc1b750",
   "metadata": {
    "scrolled": true
   },
   "outputs": [
    {
     "data": {
      "image/png": "[encoded data removed]",
      "text/plain": [
       "<Figure size 640x480 with 2 Axes>"
      ]
     },
     "metadata": {},
     "output_type": "display_data"
    }
   ],
   "source": [
    "import seaborn as sns\n",
    "import matplotlib.pyplot as plt\n",
    "\n",
    "sns.heatmap(cm, annot=True, fmt='d', cmap='Blues', \n",
    "            xticklabels=['Not Churn', 'Churn'],\n",
    "            yticklabels=['Not Churn', 'Churn'])\n",
    "plt.xlabel('Predicted')\n",
    "plt.ylabel('Actual')\n",
    "plt.show()\n"
   ]
  },
  {
   "cell_type": "code",
   "execution_count": 28,
   "id": "8062eb1f-b311-4627-9649-e9b63d67073a",
   "metadata": {},
   "outputs": [
    {
     "name": "stdout",
     "output_type": "stream",
     "text": [
      "              precision    recall  f1-score   support\n",
      "\n",
      "           0       0.79      0.70      0.75       374\n",
      "           1       0.73      0.82      0.77       374\n",
      "\n",
      "    accuracy                           0.76       748\n",
      "   macro avg       0.76      0.76      0.76       748\n",
      "weighted avg       0.76      0.76      0.76       748\n",
      "\n"
     ]
    }
   ],
   "source": [
    "from sklearn.metrics import confusion_matrix, classification_report\n",
    "cr = classification_report(y_test, y_predict)\n",
    "print(cr)"
   ]
  }
 ],
 "metadata": {
  "kernelspec": {
   "display_name": "Python 3 (ipykernel)",
   "language": "python",
   "name": "python3"
  },
  "language_info": {
   "codemirror_mode": {
    "name": "ipython",
    "version": 3
   },
   "file_extension": ".py",
   "mimetype": "text/x-python",
   "name": "python",
   "nbconvert_exporter": "python",
   "pygments_lexer": "ipython3",
   "version": "3.12.3"
  }
 },
 "nbformat": 4,
 "nbformat_minor": 5
}
